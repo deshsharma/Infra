{
 "cells": [
  {
   "cell_type": "code",
   "execution_count": 4,
   "id": "d5ee9100",
   "metadata": {},
   "outputs": [],
   "source": [
    "# Use a pipeline as a high-level helper\n",
    "from transformers import pipeline\n",
    "pipe = pipeline(\"text-generation\", model=\"openai-gpt\")"
   ]
  },
  {
   "cell_type": "code",
   "execution_count": 7,
   "id": "1830c6f2",
   "metadata": {},
   "outputs": [],
   "source": [
    "# Load model directly\n",
    "import torch\n",
    "from transformers import AutoTokenizer, AutoModelForCausalLM\n",
    "tokenizer = AutoTokenizer.from_pretrained(\"openai-gpt\")\n",
    "model = AutoModelForCausalLM.from_pretrained(\"openai-gpt\")"
   ]
  },
  {
   "cell_type": "code",
   "execution_count": 35,
   "id": "932699f4",
   "metadata": {
    "scrolled": false
   },
   "outputs": [
    {
     "name": "stdout",
     "output_type": "stream",
     "text": [
      "i have a cute dog. he's cute, too. \" \n",
      " \" we should bring him home with us, \" she said, her voice still low. \n",
      " \" i can't go back there. \" \n",
      " \" you could go back to your house. \" \n",
      " \" i have a good friend who lives in the area. we can take him home with us. \" \n",
      " \" you don't have a dog. \" \n",
      " \" i 'll bring him home. \" \n",
      " \" you don't have a dog. \" \n",
      " \" do you really want to argue about this? \" \n",
      " \" i can't. it's not fair to you. \" \n",
      " \" fair? \" he repeated. \n",
      " \" yes, fair. i'm the one who said\n"
     ]
    }
   ],
   "source": [
    "input_text = \"I have a cute dog\"\n",
    "inputs = tokenizer(input_text, return_tensors=\"pt\")\n",
    "input_ids = inputs[\"input_ids\"]\n",
    "output = model.generate(\n",
    "input_ids,\n",
    "attention_mask=inputs[\"attention_mask\"],\n",
    "do_sample=True,\n",
    "max_length=150,\n",
    "temperature=0.8,\n",
    "use_cache=True,\n",
    "top_p=0.9\n",
    ")\n",
    "\n",
    "print(tokenizer.decode(output[0]))"
   ]
  },
  {
   "cell_type": "markdown",
   "id": "ea5d4ac3",
   "metadata": {},
   "source": [
    "**Blenderbot**"
   ]
  },
  {
   "cell_type": "code",
   "execution_count": 36,
   "id": "220d67b6",
   "metadata": {},
   "outputs": [],
   "source": [
    "# Import the model class and the tokenizer\n",
    "from transformers import BlenderbotTokenizer, BlenderbotForConditionalGeneration"
   ]
  },
  {
   "cell_type": "code",
   "execution_count": 37,
   "id": "f6fcbbb3",
   "metadata": {},
   "outputs": [
    {
     "data": {
      "application/vnd.jupyter.widget-view+json": {
       "model_id": "152dcf122c314bdfb828b02ac0645f68",
       "version_major": 2,
       "version_minor": 0
      },
      "text/plain": [
       "Downloading (…)olve/main/vocab.json:   0%|          | 0.00/127k [00:00<?, ?B/s]"
      ]
     },
     "metadata": {},
     "output_type": "display_data"
    },
    {
     "data": {
      "application/vnd.jupyter.widget-view+json": {
       "model_id": "20c127cd9cbf4a8eb7516499fad1fd2b",
       "version_major": 2,
       "version_minor": 0
      },
      "text/plain": [
       "Downloading (…)olve/main/merges.txt:   0%|          | 0.00/62.9k [00:00<?, ?B/s]"
      ]
     },
     "metadata": {},
     "output_type": "display_data"
    },
    {
     "data": {
      "application/vnd.jupyter.widget-view+json": {
       "model_id": "441a56a0a3324a1e83a5082f69f64da1",
       "version_major": 2,
       "version_minor": 0
      },
      "text/plain": [
       "Downloading (…)okenizer_config.json:   0%|          | 0.00/1.15k [00:00<?, ?B/s]"
      ]
     },
     "metadata": {},
     "output_type": "display_data"
    },
    {
     "data": {
      "application/vnd.jupyter.widget-view+json": {
       "model_id": "0723ea4256a542f8b331dfdb77006d2d",
       "version_major": 2,
       "version_minor": 0
      },
      "text/plain": [
       "Downloading (…)in/added_tokens.json:   0%|          | 0.00/16.0 [00:00<?, ?B/s]"
      ]
     },
     "metadata": {},
     "output_type": "display_data"
    },
    {
     "data": {
      "application/vnd.jupyter.widget-view+json": {
       "model_id": "d7842346c3b8410381ef933134f6700f",
       "version_major": 2,
       "version_minor": 0
      },
      "text/plain": [
       "Downloading (…)cial_tokens_map.json:   0%|          | 0.00/772 [00:00<?, ?B/s]"
      ]
     },
     "metadata": {},
     "output_type": "display_data"
    },
    {
     "data": {
      "application/vnd.jupyter.widget-view+json": {
       "model_id": "c407c6eed6654bc581d565ad727cff3a",
       "version_major": 2,
       "version_minor": 0
      },
      "text/plain": [
       "Downloading (…)lve/main/config.json:   0%|          | 0.00/1.57k [00:00<?, ?B/s]"
      ]
     },
     "metadata": {},
     "output_type": "display_data"
    },
    {
     "data": {
      "application/vnd.jupyter.widget-view+json": {
       "model_id": "48e05ce205ef479d8231f01d67b7f681",
       "version_major": 2,
       "version_minor": 0
      },
      "text/plain": [
       "Downloading pytorch_model.bin:   0%|          | 0.00/730M [00:00<?, ?B/s]"
      ]
     },
     "metadata": {},
     "output_type": "display_data"
    },
    {
     "data": {
      "application/vnd.jupyter.widget-view+json": {
       "model_id": "4afc2f39c04f416690c0f4cfb68931b9",
       "version_major": 2,
       "version_minor": 0
      },
      "text/plain": [
       "Downloading (…)neration_config.json:   0%|          | 0.00/347 [00:00<?, ?B/s]"
      ]
     },
     "metadata": {},
     "output_type": "display_data"
    }
   ],
   "source": [
    "# Download and setup the model and tokenizer\n",
    "tokenizer = BlenderbotTokenizer.from_pretrained(\"facebook/blenderbot-400M-distill\")\n",
    "model = BlenderbotForConditionalGeneration.from_pretrained(\"facebook/blenderbot-400M-distill\")"
   ]
  },
  {
   "cell_type": "code",
   "execution_count": 63,
   "id": "484e418a",
   "metadata": {},
   "outputs": [],
   "source": [
    "question = \"I like movies\""
   ]
  },
  {
   "cell_type": "code",
   "execution_count": 64,
   "id": "f5d06358",
   "metadata": {},
   "outputs": [
    {
     "data": {
      "text/plain": [
       "{'input_ids': tensor([[ 281,  398, 2842,    2]]), 'attention_mask': tensor([[1, 1, 1, 1]])}"
      ]
     },
     "execution_count": 64,
     "metadata": {},
     "output_type": "execute_result"
    }
   ],
   "source": [
    "# Tokenize the questions\n",
    "inputs = tokenizer(question, return_tensors=\"pt\")\n",
    "inputs"
   ]
  },
  {
   "cell_type": "code",
   "execution_count": 65,
   "id": "c82e9805",
   "metadata": {},
   "outputs": [
    {
     "data": {
      "text/plain": [
       "tensor([[   1,  281,  361,  618,   21,  714,  315,  414, 2297, 1727,  306,  430,\n",
       "          552,   38, 6486,  315,  384, 1921,   77, 1054, 4461, 6862,   21,    2]])"
      ]
     },
     "execution_count": 65,
     "metadata": {},
     "output_type": "execute_result"
    }
   ],
   "source": [
    "# Passing question to the model\n",
    "res = model.generate(**inputs)\n",
    "res"
   ]
  },
  {
   "cell_type": "code",
   "execution_count": 66,
   "id": "d6c318d8",
   "metadata": {},
   "outputs": [
    {
     "data": {
      "text/plain": [
       "'<s> I do too. What is your favorite movie of all time? Mine is The Godfather Part II.</s>'"
      ]
     },
     "execution_count": 66,
     "metadata": {},
     "output_type": "execute_result"
    }
   ],
   "source": [
    "# Decoding the model output\n",
    "tokenizer.decode(res[0])"
   ]
  },
  {
   "cell_type": "code",
   "execution_count": null,
   "id": "350c8909",
   "metadata": {},
   "outputs": [],
   "source": []
  }
 ],
 "metadata": {
  "kernelspec": {
   "display_name": "Python 3 (ipykernel)",
   "language": "python",
   "name": "python3"
  },
  "language_info": {
   "codemirror_mode": {
    "name": "ipython",
    "version": 3
   },
   "file_extension": ".py",
   "mimetype": "text/x-python",
   "name": "python",
   "nbconvert_exporter": "python",
   "pygments_lexer": "ipython3",
   "version": "3.9.16"
  }
 },
 "nbformat": 4,
 "nbformat_minor": 5
}
